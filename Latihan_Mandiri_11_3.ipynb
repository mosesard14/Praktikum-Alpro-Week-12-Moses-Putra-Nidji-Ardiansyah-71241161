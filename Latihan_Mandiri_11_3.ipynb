{
  "nbformat": 4,
  "nbformat_minor": 0,
  "metadata": {
    "colab": {
      "provenance": [],
      "authorship_tag": "ABX9TyMlBsydDNwai9nveR5BKXx2",
      "include_colab_link": true
    },
    "kernelspec": {
      "name": "python3",
      "display_name": "Python 3"
    },
    "language_info": {
      "name": "python"
    }
  },
  "cells": [
    {
      "cell_type": "markdown",
      "metadata": {
        "id": "view-in-github",
        "colab_type": "text"
      },
      "source": [
        "<a href=\"https://colab.research.google.com/github/mosesard14/Praktikum-Alpro-Week-12-Moses-Putra-Nidji-Ardiansyah-71241161/blob/main/Latihan_Mandiri_11_3.ipynb\" target=\"_parent\"><img src=\"https://colab.research.google.com/assets/colab-badge.svg\" alt=\"Open In Colab\"/></a>"
      ]
    },
    {
      "cell_type": "code",
      "execution_count": null,
      "metadata": {
        "id": "cxgdnr90wD5h"
      },
      "outputs": [],
      "source": [
        "nama_file = input('Masukkan nama file: ').strip()\n",
        "\n",
        "try:\n",
        "  buka = open(nama_file, 'r')\n",
        "except FileNotFoundError:\n",
        "  print('file tidak ditemukan', nama_file)\n",
        "  quit()\n",
        "\n",
        "simpan = {}\n",
        "\n",
        "for i in buka:\n",
        "  i = i.rstrip()\n",
        "\n",
        "  kata = i.split()\n",
        "  if len(kata) < 2:\n",
        "    continue\n",
        "\n",
        "  email = kata[i]\n",
        "  simpan[email] = simpan.get(email, 0) + 1\n",
        "\n",
        "buka.close()\n",
        "\n",
        "print(simpan)"
      ]
    }
  ]
}