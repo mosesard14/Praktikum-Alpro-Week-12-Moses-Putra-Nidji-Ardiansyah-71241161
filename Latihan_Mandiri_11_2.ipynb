{
  "nbformat": 4,
  "nbformat_minor": 0,
  "metadata": {
    "colab": {
      "provenance": [],
      "authorship_tag": "ABX9TyMC2dXvcWFxpR7K83tLHvTq",
      "include_colab_link": true
    },
    "kernelspec": {
      "name": "python3",
      "display_name": "Python 3"
    },
    "language_info": {
      "name": "python"
    }
  },
  "cells": [
    {
      "cell_type": "markdown",
      "metadata": {
        "id": "view-in-github",
        "colab_type": "text"
      },
      "source": [
        "<a href=\"https://colab.research.google.com/github/mosesard14/Praktikum-Alpro-Week-12-Moses-Putra-Nidji-Ardiansyah-71241161/blob/main/Latihan_Mandiri_11_2.ipynb\" target=\"_parent\"><img src=\"https://colab.research.google.com/assets/colab-badge.svg\" alt=\"Open In Colab\"/></a>"
      ]
    },
    {
      "cell_type": "code",
      "execution_count": 3,
      "metadata": {
        "colab": {
          "base_uri": "https://localhost:8080/"
        },
        "id": "B_30h5VFuVTY",
        "outputId": "cea6cfd4-eca4-4bb5-c44f-1656facd4d75"
      },
      "outputs": [
        {
          "output_type": "stream",
          "name": "stdout",
          "text": [
            "{'red': '#FF0000', 'green': '#008000', 'blue': '#0000FF'}\n"
          ]
        }
      ],
      "source": [
        "ListA = ['red', 'green', 'blue']\n",
        "ListB = ['#FF0000','#008000', '#0000FF']\n",
        "\n",
        "warna = {}\n",
        "for i in range(len(ListA)):\n",
        "  warna[ListA[i]] = ListB[i]\n",
        "\n",
        "print(warna)"
      ]
    }
  ]
}