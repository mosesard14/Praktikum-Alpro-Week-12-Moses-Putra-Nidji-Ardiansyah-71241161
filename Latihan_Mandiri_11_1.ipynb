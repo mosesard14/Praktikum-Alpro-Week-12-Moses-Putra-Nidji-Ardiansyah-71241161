{
  "nbformat": 4,
  "nbformat_minor": 0,
  "metadata": {
    "colab": {
      "provenance": [],
      "authorship_tag": "ABX9TyOX9d9pafueWrIT1DvpvTVG",
      "include_colab_link": true
    },
    "kernelspec": {
      "name": "python3",
      "display_name": "Python 3"
    },
    "language_info": {
      "name": "python"
    }
  },
  "cells": [
    {
      "cell_type": "markdown",
      "metadata": {
        "id": "view-in-github",
        "colab_type": "text"
      },
      "source": [
        "<a href=\"https://colab.research.google.com/github/mosesard14/Praktikum-Alpro-Week-12-Moses-Putra-Nidji-Ardiansyah-71241161/blob/main/Latihan_Mandiri_11_1.ipynb\" target=\"_parent\"><img src=\"https://colab.research.google.com/assets/colab-badge.svg\" alt=\"Open In Colab\"/></a>"
      ]
    },
    {
      "cell_type": "code",
      "source": [
        "data = {1: 10, 2: 20, 3: 30, 4: 40, 5: 50, 6: 60}\n",
        "print('key value item')\n",
        "item = 1\n",
        "for key, value in data.items():\n",
        "  print(key, value, item)\n",
        "  item += 1"
      ],
      "metadata": {
        "colab": {
          "base_uri": "https://localhost:8080/"
        },
        "id": "ufoVBEXGq0qQ",
        "outputId": "bc4b4894-8b50-47f3-8ad1-ed381c075a30"
      },
      "execution_count": 3,
      "outputs": [
        {
          "output_type": "stream",
          "name": "stdout",
          "text": [
            "key value item\n",
            "1 10 1\n",
            "2 20 2\n",
            "3 30 3\n",
            "4 40 4\n",
            "5 50 5\n",
            "6 60 6\n"
          ]
        }
      ]
    },
    {
      "cell_type": "code",
      "execution_count": 1,
      "metadata": {
        "colab": {
          "base_uri": "https://localhost:8080/"
        },
        "id": "Bc5ZNh6pqOEv",
        "outputId": "fd7f016d-4a1a-4164-db8e-26e97a4febcc"
      },
      "outputs": [
        {
          "output_type": "stream",
          "name": "stdout",
          "text": [
            "key value item\n",
            "1 10 1\n",
            "2 20 2\n",
            "3 30 3\n",
            "4 40 4\n",
            "5 50 5\n",
            "6 60 6\n"
          ]
        }
      ],
      "source": []
    }
  ]
}